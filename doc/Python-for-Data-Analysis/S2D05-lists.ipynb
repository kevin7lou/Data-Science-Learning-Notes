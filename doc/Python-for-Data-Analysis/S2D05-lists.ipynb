{
 "cells": [
  {
   "cell_type": "markdown",
   "metadata": {
    "_cell_guid": "b1076dfc-b9ad-4769-8c92-a6c4dae69d19",
    "_uuid": "8f2839f25d086af736a60e9eeb907d3b93b6e0e5"
   },
   "source": [
    "# Python for Data 5: Lists\n",
    "[back to index](https://www.kaggle.com/hamelg/python-for-data-analysis-index)"
   ]
  },
  {
   "cell_type": "markdown",
   "metadata": {
    "_cell_guid": "79c7e3d0-c299-4dcb-8224-4455121ee9b0",
    "_uuid": "d629ff2d2480ee46fbb7e2d37f6b5fab8052498a",
    "collapsed": true
   },
   "source": [
    "Most of the individual data values you work with will take the form of one of the basic data types we learned about in lesson 3, but data analysis involves working with sets of related records that need to be grouped together. Sequences in Python are data structures that hold objects in an ordered array. In this lesson, we'll learn about lists, one of the most common sequence data types in Python."
   ]
  },
  {
   "cell_type": "markdown",
   "metadata": {},
   "source": [
    "## List Basics"
   ]
  },
  {
   "cell_type": "markdown",
   "metadata": {},
   "source": [
    "A list is a mutable, ordered collection of objects. \"Mutable\" means a list can be altered after it is created. You can, for example, add new items to a list or remove existing items. Lists are heterogeneous, meaning they can hold objects of different types.\n",
    "\n",
    "Construct a list with a comma separated sequence of objects within square brackets:"
   ]
  },
  {
   "cell_type": "code",
   "execution_count": 1,
   "metadata": {},
   "outputs": [
    {
     "name": "stdout",
     "output_type": "stream",
     "text": [
      "['Lesson', 5, 'Is Fun?', True]\n"
     ]
    }
   ],
   "source": [
    "my_list = [\"Lesson\", 5, \"Is Fun?\", True]\n",
    "\n",
    "print(my_list)"
   ]
  },
  {
   "cell_type": "markdown",
   "metadata": {},
   "source": [
    "Alternatively, you can construct a list by passing some other iterable into the list() function. An iterable describes an object you can look through one item at a time, such as lists, tuples, strings and other sequences."
   ]
  },
  {
   "cell_type": "code",
   "execution_count": 2,
   "metadata": {},
   "outputs": [
    {
     "name": "stdout",
     "output_type": "stream",
     "text": [
      "['L', 'i', 'f', 'e', ' ', 'i', 's', ' ', 'S', 't', 'u', 'd', 'y']\n"
     ]
    }
   ],
   "source": [
    "second_list = list(\"Life is Study\")  # Create a list from a string\n",
    "\n",
    "print(second_list)"
   ]
  },
  {
   "cell_type": "markdown",
   "metadata": {},
   "source": [
    "A list with no contents is known as the empty list:"
   ]
  },
  {
   "cell_type": "code",
   "execution_count": 3,
   "metadata": {},
   "outputs": [
    {
     "name": "stdout",
     "output_type": "stream",
     "text": [
      "[]\n"
     ]
    }
   ],
   "source": [
    "empty_list = []\n",
    "\n",
    "print( empty_list )"
   ]
  },
  {
   "cell_type": "markdown",
   "metadata": {},
   "source": [
    "You can add an item to an existing list with the `list.append()` function:"
   ]
  },
  {
   "cell_type": "code",
   "execution_count": 4,
   "metadata": {},
   "outputs": [
    {
     "name": "stdout",
     "output_type": "stream",
     "text": [
      "[\"I'm no longer empty!\"]\n"
     ]
    }
   ],
   "source": [
    "empty_list.append(\"I'm no longer empty!\")\n",
    "\n",
    "print(empty_list)"
   ]
  },
  {
   "cell_type": "markdown",
   "metadata": {},
   "source": [
    "Remove a matching item from a list with `list.remove()`:"
   ]
  },
  {
   "cell_type": "code",
   "execution_count": 5,
   "metadata": {},
   "outputs": [
    {
     "name": "stdout",
     "output_type": "stream",
     "text": [
      "['Lesson', 'Is Fun?', True]\n"
     ]
    }
   ],
   "source": [
    "my_list.remove(5)\n",
    "\n",
    "print(my_list)"
   ]
  },
  {
   "cell_type": "markdown",
   "metadata": {},
   "source": [
    "*Note: Remove deletes the first matching item only.*"
   ]
  },
  {
   "cell_type": "markdown",
   "metadata": {},
   "source": [
    "Join two lists together with the `+` operator:"
   ]
  },
  {
   "cell_type": "code",
   "execution_count": 6,
   "metadata": {},
   "outputs": [
    {
     "name": "stdout",
     "output_type": "stream",
     "text": [
      "['Lesson', 'Is Fun?', True, \"I'm no longer empty!\"]\n"
     ]
    }
   ],
   "source": [
    "combined_list = my_list + empty_list\n",
    "\n",
    "print(combined_list)"
   ]
  },
  {
   "cell_type": "markdown",
   "metadata": {},
   "source": [
    "You can also add a sequence to the end of an existing list with the `list.extend()` function:"
   ]
  },
  {
   "cell_type": "code",
   "execution_count": 7,
   "metadata": {},
   "outputs": [
    {
     "name": "stdout",
     "output_type": "stream",
     "text": [
      "['Lesson', 'Is Fun?', True, \"I'm no longer empty!\"]\n"
     ]
    }
   ],
   "source": [
    "combined_list = my_list\n",
    "\n",
    "combined_list.extend(empty_list)\n",
    "\n",
    "print(combined_list)"
   ]
  },
  {
   "cell_type": "markdown",
   "metadata": {},
   "source": [
    "Check the length, maximum, minimum and sum of a list with the len(), max(), min() and sum() functions, respectively."
   ]
  },
  {
   "cell_type": "code",
   "execution_count": 8,
   "metadata": {},
   "outputs": [
    {
     "name": "stdout",
     "output_type": "stream",
     "text": [
      "5\n",
      "9\n",
      "1\n",
      "25\n",
      "5.0\n"
     ]
    }
   ],
   "source": [
    "num_list = [1, 3, 5, 7, 9]\n",
    "print( len(num_list))                # Check the length\n",
    "print( max(num_list))                # Check the max\n",
    "print( min(num_list))                # Check the min\n",
    "print( sum(num_list))                # Check the sum\n",
    "print( sum(num_list)/len(num_list))  # Check the mean*"
   ]
  },
  {
   "cell_type": "markdown",
   "metadata": {},
   "source": [
    "*Note: Python does not have a built in function to calculate the mean, but the numpy library we will introduce in upcoming lessons does.*\n",
    "\n",
    "You can check whether a list contains a certain object with the \"in\" keyword:"
   ]
  },
  {
   "cell_type": "code",
   "execution_count": 9,
   "metadata": {},
   "outputs": [
    {
     "data": {
      "text/plain": [
       "True"
      ]
     },
     "execution_count": 9,
     "metadata": {},
     "output_type": "execute_result"
    }
   ],
   "source": [
    "1 in num_list"
   ]
  },
  {
   "cell_type": "markdown",
   "metadata": {},
   "source": [
    "Add the keyword \"not\" to test whether a list does not contain an object:"
   ]
  },
  {
   "cell_type": "code",
   "execution_count": 10,
   "metadata": {},
   "outputs": [
    {
     "data": {
      "text/plain": [
       "False"
      ]
     },
     "execution_count": 10,
     "metadata": {},
     "output_type": "execute_result"
    }
   ],
   "source": [
    "1 not in num_list"
   ]
  },
  {
   "cell_type": "markdown",
   "metadata": {},
   "source": [
    "Count the occurrences of an object within a list using the `list.count()` function:"
   ]
  },
  {
   "cell_type": "code",
   "execution_count": 11,
   "metadata": {},
   "outputs": [
    {
     "data": {
      "text/plain": [
       "1"
      ]
     },
     "execution_count": 11,
     "metadata": {},
     "output_type": "execute_result"
    }
   ],
   "source": [
    "num_list.count(3)"
   ]
  },
  {
   "cell_type": "markdown",
   "metadata": {},
   "source": [
    "Other common list functions include `list.sort()` and list.reverse():"
   ]
  },
  {
   "cell_type": "code",
   "execution_count": 12,
   "metadata": {},
   "outputs": [
    {
     "name": "stdout",
     "output_type": "stream",
     "text": [
      "Reversed list [6, 3, 2, 4, 5, 1]\n",
      "Sorted list [1, 2, 3, 4, 5, 6]\n"
     ]
    }
   ],
   "source": [
    "new_list = [1, 5, 4, 2, 3, 6]      # Make a new list\n",
    "\n",
    "new_list.reverse()                 # Reverse the list\n",
    "print(\"Reversed list\", new_list)\n",
    "\n",
    "new_list.sort()                    # Sort the list\n",
    "print(\"Sorted list\", new_list)"
   ]
  },
  {
   "cell_type": "markdown",
   "metadata": {},
   "source": [
    "## List Indexing and Slicing"
   ]
  },
  {
   "cell_type": "markdown",
   "metadata": {},
   "source": [
    "Lists and other Python sequences are indexed, meaning each position in the sequence has a corresponding number called the index that you can use to look up the value at that position. Python sequences are zero-indexed, so the first element of a sequence is at index position zero, the second element is at index 1 and so on. Retrieve an item from a list by placing the index in square brackets after the name of the list:"
   ]
  },
  {
   "cell_type": "code",
   "execution_count": 13,
   "metadata": {},
   "outputs": [
    {
     "name": "stdout",
     "output_type": "stream",
     "text": [
      "Hello\n",
      "bestest\n"
     ]
    }
   ],
   "source": [
    "another_list = [\"Hello\",\"my\", \"bestest\", \"old\", \"friend.\"]\n",
    "\n",
    "print (another_list[0])\n",
    "print (another_list[2])"
   ]
  },
  {
   "cell_type": "markdown",
   "metadata": {},
   "source": [
    "If you supply a negative number when indexing into a list, it accesses items starting from the end of the list (-1) going backward:"
   ]
  },
  {
   "cell_type": "code",
   "execution_count": 14,
   "metadata": {},
   "outputs": [
    {
     "name": "stdout",
     "output_type": "stream",
     "text": [
      "friend.\n",
      "bestest\n"
     ]
    }
   ],
   "source": [
    "print (another_list[-1])\n",
    "print (another_list[-3])"
   ]
  },
  {
   "cell_type": "markdown",
   "metadata": {},
   "source": [
    "Supplying an index outside of a lists range will result in an IndexError:"
   ]
  },
  {
   "cell_type": "code",
   "execution_count": null,
   "metadata": {},
   "outputs": [],
   "source": [
    "print (another_list[5])"
   ]
  },
  {
   "cell_type": "markdown",
   "metadata": {},
   "source": [
    "If your list contains other indexed objects, you can supply additional indexes to get items contained within the nested objects:"
   ]
  },
  {
   "cell_type": "code",
   "execution_count": null,
   "metadata": {},
   "outputs": [],
   "source": [
    "nested_list = [[1,2,3],[4,5,6],[7,8,9]]\n",
    "\n",
    "print (nested_list[0][2])"
   ]
  },
  {
   "cell_type": "markdown",
   "metadata": {},
   "source": [
    "You can take a slice (sequential subset) of a list using the syntax [start:stop:step] where start and stop are the starting and ending indexes for the slice and step controls how frequently you sample values along the slice. The default step size is 1, meaning you take all values in the range provided, starting from the first, up to but not including the last:"
   ]
  },
  {
   "cell_type": "code",
   "execution_count": null,
   "metadata": {},
   "outputs": [],
   "source": [
    "my_slice =  another_list[1:3]   # Slice index 1 and 2\n",
    "print(my_slice )"
   ]
  },
  {
   "cell_type": "code",
   "execution_count": null,
   "metadata": {},
   "outputs": [],
   "source": [
    "# Slice the entire list but use step size 2 to get every other item:\n",
    "\n",
    "my_slice =  another_list[0:6:2] \n",
    "print(my_slice )"
   ]
  },
  {
   "cell_type": "markdown",
   "metadata": {},
   "source": [
    "You can leave the starting or ending index blank to slice from the beginning or up to the end of the list respectively:"
   ]
  },
  {
   "cell_type": "code",
   "execution_count": null,
   "metadata": {},
   "outputs": [],
   "source": [
    "slice1 = another_list[:4]   # Slice everything up to index 4\n",
    "print(slice1)"
   ]
  },
  {
   "cell_type": "code",
   "execution_count": null,
   "metadata": {},
   "outputs": [],
   "source": [
    "\n",
    "slice2 = another_list[3:]   # Slice everything from index 3 to the end\n",
    "print(slice2)"
   ]
  },
  {
   "cell_type": "markdown",
   "metadata": {},
   "source": [
    "If you provide a negative number as the step, the slice steps backward:"
   ]
  },
  {
   "cell_type": "code",
   "execution_count": null,
   "metadata": {},
   "outputs": [],
   "source": [
    "# Take a slice starting at index 4, backward to index 2\n",
    "\n",
    "my_slice =  another_list[4:2:-1] \n",
    "print(my_slice )"
   ]
  },
  {
   "cell_type": "markdown",
   "metadata": {},
   "source": [
    "If you don't provide a start or ending index, you slice of the entire list:"
   ]
  },
  {
   "cell_type": "code",
   "execution_count": null,
   "metadata": {},
   "outputs": [],
   "source": [
    "my_slice =  another_list[:]   # This slice operation copies the list\n",
    "print(my_slice)"
   ]
  },
  {
   "cell_type": "markdown",
   "metadata": {},
   "source": [
    "Using a step of -1 without a starting or ending index slices the entire list in reverse, providing a shorthand to reverse a list:"
   ]
  },
  {
   "cell_type": "code",
   "execution_count": null,
   "metadata": {},
   "outputs": [],
   "source": [
    "my_slice =  another_list[::-1] # This slice operation reverses the list\n",
    "print(my_slice)"
   ]
  },
  {
   "cell_type": "markdown",
   "metadata": {},
   "source": [
    "You can use indexing to change the values within a list or delete items in a list:"
   ]
  },
  {
   "cell_type": "code",
   "execution_count": null,
   "metadata": {},
   "outputs": [],
   "source": [
    "another_list[3] = \"new\"   # Set the value at index 3 to \"new\"\n",
    "\n",
    "print(another_list)\n",
    "\n",
    "del(another_list[3])      # Delete the item at index 3\n",
    "\n",
    "print(another_list)"
   ]
  },
  {
   "cell_type": "markdown",
   "metadata": {},
   "source": [
    "You can also remove items from a list using the list.pop() function. pop() removes the final item in a list and returns it:"
   ]
  },
  {
   "cell_type": "code",
   "execution_count": null,
   "metadata": {},
   "outputs": [],
   "source": [
    "next_item = another_list.pop()\n",
    "\n",
    "print(next_item)\n",
    "print(another_list)"
   ]
  },
  {
   "cell_type": "markdown",
   "metadata": {},
   "source": [
    "Notice that the list resizes itself dynamically as you delete or add items to it. Appending items to lists and removing items from the end of list with list.pop() are very fast operations. Deleting items at the front of a list or within the body of a lists is much slower."
   ]
  },
  {
   "cell_type": "markdown",
   "metadata": {},
   "source": [
    "## Copying Lists"
   ]
  },
  {
   "cell_type": "markdown",
   "metadata": {},
   "source": [
    "In the code above, we saw that we can slice an entire list using the [:] indexing operation. You can also copy a list using the list.copy() function:"
   ]
  },
  {
   "cell_type": "code",
   "execution_count": null,
   "metadata": {},
   "outputs": [],
   "source": [
    "list1 = [1,2,3]                        # Make a list\n",
    "\n",
    "list2 = list1.copy()                   # Copy the list\n",
    "\n",
    "list1.append(4)                        # Add an item to list 1\n",
    "\n",
    "print(\"List1:\", list1)                 # Print both lists\n",
    "print(\"List2:\", list2)"
   ]
  },
  {
   "cell_type": "markdown",
   "metadata": {},
   "source": [
    "As expected, the copy was not affected by the append operation we performed on the original list. The copy function (and slicing an entire list with [:]) creates what is known as a \"shallow copy.\" A shallow copy makes a new list where each list element refers to the object at the same position (index) in the original list. This is fine when the list is contains immutable objects like ints, floats and strings, since they cannot change. Shallow copies can however, have undesired consequences when copying lists that contain mutable container objects, such as other lists.\n",
    "\n",
    "Consider the following copy operation:"
   ]
  },
  {
   "cell_type": "code",
   "execution_count": null,
   "metadata": {},
   "outputs": [],
   "source": [
    "list1 = [1,2,3]                        # Make a list\n",
    "\n",
    "list2 = [\"List within a list\", list1]  # Nest it in another list\n",
    "\n",
    "list3 = list2.copy()                   # Shallow copy list2\n",
    "\n",
    "print(\"Before appending to list1:\")\n",
    "print(\"List2:\", list2)\n",
    "print(\"List3:\", list3, \"\\n\")\n",
    "\n",
    "list1.append(4)                        # Add an item to list1\n",
    "print(\"After appending to list1:\")\n",
    "print(\"List2:\", list2)\n",
    "print(\"List3:\", list3)"
   ]
  },
  {
   "cell_type": "markdown",
   "metadata": {},
   "source": [
    "Notice that when we use a shallow copy on list2, the second element of list2 and its copy both refer to list1. Thus, when we append a new value into list1, the second element of list2 and the copy, list3, both change. When you are working with nested lists, you have to make a \"deepcopy\" if you want to truly copy nested objects in the original to avoid this behavior of shallow copies.\n",
    "\n",
    "You can make a deep copy using the deepcopy() function in the copy library:"
   ]
  },
  {
   "cell_type": "code",
   "execution_count": null,
   "metadata": {},
   "outputs": [],
   "source": [
    "import copy                            # Load the copy module\n",
    "\n",
    "list1 = [1,2,3]                        # Make a list\n",
    "\n",
    "list2 = [\"List within a list\", list1]  # Nest it in another list\n",
    "\n",
    "list3 = copy.deepcopy(list2)           # Deep copy list2\n",
    "\n",
    "print(\"Before appending to list1:\")\n",
    "print(\"List2:\", list2)\n",
    "print(\"List3:\", list3, \"\\n\")\n",
    "\n",
    "list1.append(4)                        # Add an item to list1\n",
    "print(\"After appending to list1:\")\n",
    "print(\"List2:\", list2)\n",
    "print(\"List3:\", list3)"
   ]
  },
  {
   "cell_type": "markdown",
   "metadata": {},
   "source": [
    "This time list3 is not changed when we append a new value into list1 because the second element in list3 is a copy of list1 rather than a reference to list1 itself."
   ]
  },
  {
   "cell_type": "markdown",
   "metadata": {},
   "source": [
    "## Wrap Up"
   ]
  },
  {
   "cell_type": "markdown",
   "metadata": {},
   "source": [
    "Lists are one of the most ubiquitous data structures in Python, so it is important to be familiar with them, even though specialized data structures available in libraries are often better suited for data analysis tasks. Despite some quirks like the shallow vs. deep copy issue, lists are very useful as simple data containers.\n",
    "\n",
    "In the next lesson, we'll cover two more built in sequence objects, tuples and strings."
   ]
  }
 ],
 "metadata": {
  "kernelspec": {
   "display_name": "Python 3.9.1 ('data-sci-GRhfB7_c-py3.9')",
   "language": "python",
   "name": "python3"
  },
  "language_info": {
   "codemirror_mode": {
    "name": "ipython",
    "version": 3
   },
   "file_extension": ".py",
   "mimetype": "text/x-python",
   "name": "python",
   "nbconvert_exporter": "python",
   "pygments_lexer": "ipython3",
   "version": "3.9.12"
  },
  "vscode": {
   "interpreter": {
    "hash": "6cda288f4c089aa2e57351138c758379d0abf7c462daabd27b09796286ba41ed"
   }
  }
 },
 "nbformat": 4,
 "nbformat_minor": 1
}
