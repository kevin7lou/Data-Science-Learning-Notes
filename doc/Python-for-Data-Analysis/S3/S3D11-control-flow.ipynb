{
 "cells": [
  {
   "cell_type": "markdown",
   "metadata": {
    "_cell_guid": "b1076dfc-b9ad-4769-8c92-a6c4dae69d19",
    "_uuid": "8f2839f25d086af736a60e9eeb907d3b93b6e0e5"
   },
   "source": [
    "# Python for Data 11: Control Flow\n",
    "[back to index](https://www.kaggle.com/hamelg/python-for-data-analysis-index)"
   ]
  },
  {
   "cell_type": "markdown",
   "metadata": {},
   "source": [
    "Although Python is a popular tool for data analysis, it is a general-purpose programming language that wasn't designed specifically for that task. It is important to know some basic Python programming constructs so that you can write custom code and functions to handle situations where built in functions and libraries fall short.\n",
    "\n",
    "When you run code in Python, each statement is executed in the order in which they appear. Programming languages like Python let you change the order in which code executes, allowing you to skip statements or run certain statements over and over again. Programming constructs that let you alter the order in which code executes are known as control flow statements."
   ]
  },
  {
   "cell_type": "markdown",
   "metadata": {},
   "source": [
    "## If, Else and Elif"
   ]
  },
  {
   "cell_type": "markdown",
   "metadata": {},
   "source": [
    "The most basic control flow statement in Python is the \"if\" statement. An if statement checks whether some logical expression evaluates to true or false and then executes a code block if the expression is true.\n",
    "\n",
    "In Python, an if statement starts with if, followed by a logical expression and a colon. The code to execute if the logical expression is true appears on the next line, indented from the if statement above it by 4 spaces:"
   ]
  },
  {
   "cell_type": "code",
   "execution_count": 1,
   "metadata": {},
   "outputs": [
    {
     "name": "stdout",
     "output_type": "stream",
     "text": [
      "x is greater than y\n"
     ]
    }
   ],
   "source": [
    "x = 10                # Assign some variables\n",
    "y = 5\n",
    "\n",
    "if x > y:             # If statement\n",
    "    print(\"x is greater than y\")"
   ]
  },
  {
   "cell_type": "markdown",
   "metadata": {},
   "source": [
    "In the code above, the logical expression was true--x is greater than y--so the print(x) statement was executed.\n",
    "\n",
    "If statements are often accompanied by else statements. Else statements come after if statements and execute code in the event that logical expression checked by an if statement is false:"
   ]
  },
  {
   "cell_type": "code",
   "execution_count": 2,
   "metadata": {},
   "outputs": [
    {
     "name": "stdout",
     "output_type": "stream",
     "text": [
      "y is greater than x\n"
     ]
    }
   ],
   "source": [
    "y = 25\n",
    "x = 10\n",
    "\n",
    "if x > y:\n",
    "    print(\"x is greater than y\")\n",
    "else:\n",
    "    print(\"y is greater than x\")"
   ]
  },
  {
   "cell_type": "markdown",
   "metadata": {},
   "source": [
    "In this case the logical expression after the if statement is false, so the print statement after the if block is skipped and the print statement after the else block is executed instead.\n",
    "\n",
    "You can extend this basic if/else construct to perform multiple logical checks in a row by adding one or more \"elif\" (else if) statements between the opening if and closing else. Each elif statement performs an additional logical check and executes its code if the check is true:"
   ]
  },
  {
   "cell_type": "code",
   "execution_count": 3,
   "metadata": {},
   "outputs": [
    {
     "name": "stdout",
     "output_type": "stream",
     "text": [
      "x and y are equal!\n"
     ]
    }
   ],
   "source": [
    "y = 10\n",
    "\n",
    "if x > y:\n",
    "    print(\"x is greater than y\")\n",
    "elif x == y:\n",
    "    print(\"x and y are equal!\")\n",
    "else:\n",
    "    print(\"y is greater than x\")"
   ]
  },
  {
   "cell_type": "markdown",
   "metadata": {},
   "source": [
    "## For Loops"
   ]
  },
  {
   "cell_type": "markdown",
   "metadata": {},
   "source": [
    "For loops are a programming construct that let you go through each item in a sequence and then perform some operation on each one. For instance, you could use a for loop to go through all the values in a list, tuple, dictionary or series and check whether each conforms to some logical expression or print the value to the console.\n",
    "\n",
    "Create a for loop using the following syntax:"
   ]
  },
  {
   "cell_type": "code",
   "execution_count": 4,
   "metadata": {},
   "outputs": [
    {
     "name": "stdout",
     "output_type": "stream",
     "text": [
      "0\n",
      "10\n",
      "20\n",
      "30\n",
      "40\n",
      "50\n",
      "60\n",
      "70\n",
      "80\n",
      "90\n",
      "100\n"
     ]
    }
   ],
   "source": [
    "my_sequence = list(range(0,101,10))    # Make a new list\n",
    "\n",
    "for number in my_sequence:  # Create a new for loop over the specified items\n",
    "    print(number)           # Code to execute"
   ]
  },
  {
   "cell_type": "markdown",
   "metadata": {},
   "source": [
    "In each iteration of the loop, the variable \"number\" takes on the value of the next item in the sequence.\n",
    "\n",
    "For loops support a few special keywords that help you control the flow of the loop: continue and break.\n",
    "\n",
    "The continue keyword causes a for loop to skip the current iteration and go to the next one:"
   ]
  },
  {
   "cell_type": "code",
   "execution_count": 5,
   "metadata": {},
   "outputs": [
    {
     "name": "stdout",
     "output_type": "stream",
     "text": [
      "50\n",
      "60\n",
      "70\n",
      "80\n",
      "90\n",
      "100\n"
     ]
    }
   ],
   "source": [
    "for number in my_sequence:\n",
    "    if number < 50:\n",
    "        continue              # Skip numbers less than 50\n",
    "    print(number)             "
   ]
  },
  {
   "cell_type": "markdown",
   "metadata": {
    "_cell_guid": "79c7e3d0-c299-4dcb-8224-4455121ee9b0",
    "_uuid": "d629ff2d2480ee46fbb7e2d37f6b5fab8052498a",
    "collapsed": true
   },
   "source": [
    "The \"break\" keyword halts the execution of a for loop entirely. Use break to \"break out\" of a loop:"
   ]
  },
  {
   "cell_type": "code",
   "execution_count": 6,
   "metadata": {},
   "outputs": [
    {
     "name": "stdout",
     "output_type": "stream",
     "text": [
      "0\n",
      "10\n",
      "20\n",
      "30\n",
      "40\n",
      "50\n"
     ]
    }
   ],
   "source": [
    "for number in my_sequence:\n",
    "    if number > 50:\n",
    "        break              # Break out of the loop if number > 50\n",
    "    print(number)     "
   ]
  },
  {
   "cell_type": "markdown",
   "metadata": {},
   "source": [
    "In the for loop above, substituting the \"continue\" keyword for break would actually result in the exact same output but the code would take longer to run because it would still go through each number in the list instead of breaking out of the for loop early. It is best to break out of loops early if possible to reduce execution time."
   ]
  },
  {
   "cell_type": "markdown",
   "metadata": {},
   "source": [
    "## While Loops"
   ]
  },
  {
   "cell_type": "markdown",
   "metadata": {},
   "source": [
    "While loops are similar to for loops in that they allow you to execute code over and over again. For loops execute their contents, at most, a number of iterations equal to the length of the sequence you are looping over. While loops, on the other hand, keep executing their contents as long as a logical expression you supply remains true:"
   ]
  },
  {
   "cell_type": "code",
   "execution_count": 7,
   "metadata": {},
   "outputs": [
    {
     "name": "stdout",
     "output_type": "stream",
     "text": [
      "Study\n",
      "Study\n",
      "Study\n",
      "Study\n",
      "Study\n"
     ]
    }
   ],
   "source": [
    "x = 5\n",
    "iters = 0\n",
    "\n",
    "while iters < x:      # Execute the contents as long as iters < x\n",
    "    print(\"Study\")\n",
    "    iters = iters+1   # Increment iters by 1 each time the loop executes"
   ]
  },
  {
   "cell_type": "markdown",
   "metadata": {},
   "source": [
    "While loops can get you into trouble because they keep executing until the logical statement provided is false. If you supply a logical statement that will never become false and don't provide a way to break out of the while loop, it will run forever. For instance, if the while loop above didn't include the statement incrementing the value of iters by 1, the logical statement would never become false and the code would run forever. Infinite while loops are a common cause of program crashes.\n",
    "\n",
    "The continue and break statements work inside while loops just like they do in for loops. You can use the break statement to escape a while loop even if the logical expression you supplied is true. Consider the following while loop:"
   ]
  },
  {
   "cell_type": "code",
   "execution_count": 8,
   "metadata": {},
   "outputs": [
    {
     "name": "stdout",
     "output_type": "stream",
     "text": [
      "Study\n"
     ]
    }
   ],
   "source": [
    "while True:            # True is always true!\n",
    "    print(\"Study\")\n",
    "    break              # But we break out of the loop here"
   ]
  },
  {
   "cell_type": "markdown",
   "metadata": {},
   "source": [
    "It is important to make sure while loops contain a logical expression that will eventually be false or a break statement that will eventually be executed to avoid infinite loops.\n",
    "\n",
    "Although you can use a while loop to do anything a for loop can do, it is best to use for loops whenever you want to perform a specific number of operations, such as when running some code on each item in a sequence. While loops should be reserved for cases where you don't know how many times you will need to execute a loop."
   ]
  },
  {
   "cell_type": "markdown",
   "metadata": {},
   "source": [
    "## The np.where() Function"
   ]
  },
  {
   "cell_type": "markdown",
   "metadata": {},
   "source": [
    "Although it is important to be able to create your own if/else statements and loops when you need to, numpy's vectorized nature means you can often avoid using such programming constructs. Whenever you want to perform the same operation to each object in a numpy or pandas data structure, there's often a way to do it efficiently without writing your own loops and if statements.\n",
    "\n",
    "For example, imagine you have a sequence of numbers and you want to set all the negative values in the sequence to zero. One way to do it is to use a for loop with an inner if statement:"
   ]
  },
  {
   "cell_type": "code",
   "execution_count": 9,
   "metadata": {},
   "outputs": [
    {
     "name": "stdout",
     "output_type": "stream",
     "text": [
      "[0.         0.6534607  0.         0.69322118 0.81737773 0.\n",
      " 0.24213089 0.70757959 0.03982034 0.79565077 0.         0.15526294\n",
      " 0.08617526 0.         0.03346171 0.         0.05220006 0.44590445\n",
      " 0.63780762 0.35203387 0.         0.         0.         0.\n",
      " 0.00340459]\n"
     ]
    }
   ],
   "source": [
    "import numpy as np\n",
    "\n",
    "# Draw 25 random numbers from -1 to 1\n",
    "my_data = np.random.uniform(-1,1,25)  \n",
    "\n",
    "for index, number in enumerate(my_data):  \n",
    "    if number < 0:               \n",
    "        my_data[index] = 0            # Set numbers less than 0 to 0\n",
    "\n",
    "print(my_data)"
   ]
  },
  {
   "cell_type": "markdown",
   "metadata": {},
   "source": [
    "*Note: \"enumerate\" takes a sequence and turns it into a sequence of (index, value) tuples; enumerate() lets you loop over the items in a sequence while also having access the item's index.*\n",
    "\n",
    "Using a for loop to perform this sort of operation requires writing quite a bit of code and for loops are not particularly fast because they have to operate on each item in a sequence one at a time.\n",
    "\n",
    "Numpy includes a function called where() that lets you perform an if/else check on a sequence with less code:"
   ]
  },
  {
   "cell_type": "code",
   "execution_count": 10,
   "metadata": {},
   "outputs": [
    {
     "name": "stdout",
     "output_type": "stream",
     "text": [
      "[0.53077781 0.         0.0319931  0.         0.70391751 0.\n",
      " 0.74475989 0.         0.02488957 0.         0.         0.9766864\n",
      " 0.         0.62616028 0.93018595 0.80642258 0.         0.60679184\n",
      " 0.34641972 0.         0.3370635  0.85553819 0.         0.94314962\n",
      " 0.        ]\n"
     ]
    }
   ],
   "source": [
    "my_data = np.random.uniform(-1,1,25)  # Generate new random numbers\n",
    "\n",
    "my_data = np.where(my_data < 0,       # A logical test\n",
    "                   0,                 # Value to set if the test is true\n",
    "                   my_data)           # Value to set if the test is false\n",
    "\n",
    "print(my_data)"
   ]
  },
  {
   "cell_type": "markdown",
   "metadata": {},
   "source": [
    "Not only is np.where() more concise than a for loop, it is also much more computationally efficient."
   ]
  },
  {
   "cell_type": "markdown",
   "metadata": {},
   "source": [
    "## Wrap Up"
   ]
  },
  {
   "cell_type": "markdown",
   "metadata": {},
   "source": [
    "Control flow statements are the basic building blocks of computer programs. Python and its libraries offer vast number functions, but general-use functions can't apply to every situation. Sooner or later, you'll need to write a custom code to perform a task unique to your specific project or data set. Next time we'll learn how to package control flow statements into reusable functions."
   ]
  },
  {
   "cell_type": "markdown",
   "metadata": {},
   "source": [
    "## Next Lesson: [Python for Data 12: Functions](https://www.kaggle.com/hamelg/python-for-data-12-functions)\n",
    "[back to index](https://www.kaggle.com/hamelg/python-for-data-analysis-index)"
   ]
  }
 ],
 "metadata": {
  "kernelspec": {
   "display_name": "Python 3",
   "language": "python",
   "name": "python3"
  },
  "language_info": {
   "codemirror_mode": {
    "name": "ipython",
    "version": 3
   },
   "file_extension": ".py",
   "mimetype": "text/x-python",
   "name": "python",
   "nbconvert_exporter": "python",
   "pygments_lexer": "ipython3",
   "version": "3.6.4"
  }
 },
 "nbformat": 4,
 "nbformat_minor": 1
}
