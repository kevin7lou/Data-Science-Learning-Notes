{
 "cells": [
  {
   "cell_type": "markdown",
   "metadata": {
    "_cell_guid": "b1076dfc-b9ad-4769-8c92-a6c4dae69d19",
    "_uuid": "8f2839f25d086af736a60e9eeb907d3b93b6e0e5"
   },
   "source": [
    "# Python for Data 15: Working With Text Data\n",
    "[back to index](https://www.kaggle.com/hamelg/python-for-data-analysis-index)"
   ]
  },
  {
   "cell_type": "markdown",
   "metadata": {
    "_cell_guid": "79c7e3d0-c299-4dcb-8224-4455121ee9b0",
    "_uuid": "d629ff2d2480ee46fbb7e2d37f6b5fab8052498a",
    "collapsed": true
   },
   "source": [
    "Last lesson we learned that there are a lot of questions to consider when you first look at a data set, including whether you should clean or transform the data. We touched briefly on a few basic operations to prepare data for analysis, but the Titanic data set was pretty clean to begin with. Data you encounter in the wild won't always be so friendly. Text data in particular can be extremely messy and difficult to work with because it can contain all sorts of characters and symbols that may have little meaning for your analysis. This lesson will cover some basic techniques and functions for working with text data in Python.\n",
    "\n",
    "To start, we'll need some text data that is a little messier than the names in the Titanic data set. As it happens, Kaggle has a data exploration competition giving users access to a database of comments made on Reddit.com during the month of May 2015. Since the Minnesota Timberwolves are my favorite basketball team, let's extract the comments from the team's fan subreddit and use it as an example of messy text for this lesson.\n",
    "\n",
    "Let's start by loading the data and checking its structure and a few of the comments:"
   ]
  },
  {
   "cell_type": "code",
   "execution_count": 1,
   "metadata": {},
   "outputs": [
    {
     "name": "stdout",
     "output_type": "stream",
     "text": [
      "(4166,)\n"
     ]
    },
    {
     "data": {
      "text/plain": [
       "0    Strongly encouraging sign for us.  The T-Wolve...\n",
       "1    [My reaction.](http://4.bp.blogspot.com/-3ySob...\n",
       "2                     http://imgur.com/gallery/Zch2AWw\n",
       "3    Wolves have more talent than they ever had rig...\n",
       "4    Nah. Wigg is on the level of KG but where's ou...\n",
       "5           2004 was a pretty damn talented team dude.\n",
       "6                                                  :')\n",
       "7                                              *swoon*\n",
       "Name: body, dtype: object"
      ]
     },
     "execution_count": 1,
     "metadata": {},
     "output_type": "execute_result"
    }
   ],
   "source": [
    "# This code is used for loading in data from the Reddit comment database\n",
    "# Don't worry about the details of this code\n",
    "\n",
    "import sqlite3\n",
    "import pandas as pd\n",
    "\n",
    "\n",
    "sql_conn = sqlite3.connect('../input/reddit-comments-may-2015/database.sqlite')\n",
    "\n",
    "comments = pd.read_sql(\"SELECT body FROM May2015 WHERE subreddit = 'timberwolves'\", sql_conn)\n",
    "\n",
    "comments = comments[\"body\"]     # Convert from df to series\n",
    "\n",
    "print(comments.shape)\n",
    "comments.head(8)"
   ]
  },
  {
   "cell_type": "markdown",
   "metadata": {},
   "source": [
    "The text in these comments is pretty messy. We see everything from long paragraphs to web links to text emoticons. We already learned about a variety of basic string processing functions in lesson 6; pandas extends built in string functions that operate on entire series of strings."
   ]
  },
  {
   "cell_type": "markdown",
   "metadata": {},
   "source": [
    "## Pandas String Functions"
   ]
  },
  {
   "cell_type": "markdown",
   "metadata": {},
   "source": [
    "String functions in pandas mirror built in string functions and many have the same name as their singular counterparts. For example, str.lower() converts a single string to lowercase, while series.str.lower() converts all the strings in a series to lowercase:"
   ]
  },
  {
   "cell_type": "code",
   "execution_count": 2,
   "metadata": {},
   "outputs": [
    {
     "data": {
      "text/plain": [
       "\"strongly encouraging sign for us.  the t-wolves management better not screw this up and they better surround wiggins with a championship caliber team to support his superstar potential or else i wouldn't want him to sour his prime years here in minnesota just like how i felt with garnett.\\n\\ntl;dr: wolves better not fuck this up.\""
      ]
     },
     "execution_count": 2,
     "metadata": {},
     "output_type": "execute_result"
    }
   ],
   "source": [
    "comments[0].lower()      # Convert the first comment to lowercase"
   ]
  },
  {
   "cell_type": "code",
   "execution_count": 3,
   "metadata": {},
   "outputs": [
    {
     "data": {
      "text/plain": [
       "0    strongly encouraging sign for us.  the t-wolve...\n",
       "1    [my reaction.](http://4.bp.blogspot.com/-3ysob...\n",
       "2                     http://imgur.com/gallery/zch2aww\n",
       "3    wolves have more talent than they ever had rig...\n",
       "4    nah. wigg is on the level of kg but where's ou...\n",
       "5           2004 was a pretty damn talented team dude.\n",
       "6                                                  :')\n",
       "7                                              *swoon*\n",
       "Name: body, dtype: object"
      ]
     },
     "execution_count": 3,
     "metadata": {},
     "output_type": "execute_result"
    }
   ],
   "source": [
    "comments.str.lower().head(8)  # Convert all comments to lowercase"
   ]
  },
  {
   "cell_type": "markdown",
   "metadata": {},
   "source": [
    "Pandas also supports str.upper() and str.len():"
   ]
  },
  {
   "cell_type": "code",
   "execution_count": 4,
   "metadata": {},
   "outputs": [
    {
     "data": {
      "text/plain": [
       "0    STRONGLY ENCOURAGING SIGN FOR US.  THE T-WOLVE...\n",
       "1    [MY REACTION.](HTTP://4.BP.BLOGSPOT.COM/-3YSOB...\n",
       "2                     HTTP://IMGUR.COM/GALLERY/ZCH2AWW\n",
       "3    WOLVES HAVE MORE TALENT THAN THEY EVER HAD RIG...\n",
       "4    NAH. WIGG IS ON THE LEVEL OF KG BUT WHERE'S OU...\n",
       "5           2004 WAS A PRETTY DAMN TALENTED TEAM DUDE.\n",
       "6                                                  :')\n",
       "7                                              *SWOON*\n",
       "Name: body, dtype: object"
      ]
     },
     "execution_count": 4,
     "metadata": {},
     "output_type": "execute_result"
    }
   ],
   "source": [
    "comments.str.upper().head(8)  # Convert all comments to uppercase"
   ]
  },
  {
   "cell_type": "code",
   "execution_count": 5,
   "metadata": {},
   "outputs": [
    {
     "data": {
      "text/plain": [
       "0    329\n",
       "1    101\n",
       "2     32\n",
       "3     53\n",
       "4    145\n",
       "5     42\n",
       "6      3\n",
       "7      7\n",
       "Name: body, dtype: int64"
      ]
     },
     "execution_count": 5,
     "metadata": {},
     "output_type": "execute_result"
    }
   ],
   "source": [
    "comments.str.len().head(8)  # Get the length of all comments"
   ]
  },
  {
   "cell_type": "markdown",
   "metadata": {},
   "source": [
    "The string splitting and stripping functions also have pandas equivalents:"
   ]
  },
  {
   "cell_type": "code",
   "execution_count": 6,
   "metadata": {},
   "outputs": [
    {
     "data": {
      "text/plain": [
       "0    [Strongly, encouraging, sign, for, us., , The,...\n",
       "1    [[My, reaction.](http://4.bp.blogspot.com/-3yS...\n",
       "2                   [http://imgur.com/gallery/Zch2AWw]\n",
       "3    [Wolves, have, more, talent, than, they, ever,...\n",
       "4    [Nah., Wigg, is, on, the, level, of, KG, but, ...\n",
       "5    [2004, was, a, pretty, damn, talented, team, d...\n",
       "6                                                [:')]\n",
       "7                                            [*swoon*]\n",
       "Name: body, dtype: object"
      ]
     },
     "execution_count": 6,
     "metadata": {},
     "output_type": "execute_result"
    }
   ],
   "source": [
    "comments.str.split(\" \").head(8)  # Split comments on spaces"
   ]
  },
  {
   "cell_type": "code",
   "execution_count": 7,
   "metadata": {},
   "outputs": [
    {
     "data": {
      "text/plain": [
       "0    Strongly encouraging sign for us.  The T-Wolve...\n",
       "1    My reaction.](http://4.bp.blogspot.com/-3ySobv...\n",
       "2                     http://imgur.com/gallery/Zch2AWw\n",
       "3    Wolves have more talent than they ever had rig...\n",
       "4    Nah. Wigg is on the level of KG but where's ou...\n",
       "5           2004 was a pretty damn talented team dude.\n",
       "6                                                  :')\n",
       "7                                              *swoon*\n",
       "Name: body, dtype: object"
      ]
     },
     "execution_count": 7,
     "metadata": {},
     "output_type": "execute_result"
    }
   ],
   "source": [
    "comments.str.strip(\"[]\").head(8)  # Strip leading and trailing brackets"
   ]
  },
  {
   "cell_type": "markdown",
   "metadata": {},
   "source": [
    "Combine all the strings in a series together into a single string with series.str.cat():"
   ]
  },
  {
   "cell_type": "code",
   "execution_count": 8,
   "metadata": {},
   "outputs": [
    {
     "data": {
      "text/plain": [
       "\"Strongly encouraging sign for us.  The T-Wolves management better not screw this up and they better surround Wiggins with a championship caliber team to support his superstar potential or else I wouldn't want him to sour his prime years here in Minnesota just like how I felt with Garnett.\\n\\nTL;DR: Wolves better not fuck this up.[My reaction.](http://4.bp.blogspot.com/-3ySobv38ihc/U6yxpPwsbzI/AAAAAAAAIPo/IO8Z_wbTIVQ/s1600/2.gif)http://imgur.com/gallery/Zch2AWwWolves have more talent than they ever\""
      ]
     },
     "execution_count": 8,
     "metadata": {},
     "output_type": "execute_result"
    }
   ],
   "source": [
    "comments.str.cat()[0:500]   # Check the first 500 characters"
   ]
  },
  {
   "cell_type": "markdown",
   "metadata": {},
   "source": [
    "You can slice each string in a series and return the result in an elementwise fasion with series.str.slice():"
   ]
  },
  {
   "cell_type": "code",
   "execution_count": 9,
   "metadata": {},
   "outputs": [
    {
     "data": {
      "text/plain": [
       "0    Strongly e\n",
       "1    [My reacti\n",
       "2    http://img\n",
       "3    Wolves hav\n",
       "4    Nah. Wigg \n",
       "5    2004 was a\n",
       "6           :')\n",
       "7       *swoon*\n",
       "Name: body, dtype: object"
      ]
     },
     "execution_count": 9,
     "metadata": {},
     "output_type": "execute_result"
    }
   ],
   "source": [
    "comments.str.slice(0, 10).head(8)  # Slice the first 10 characters"
   ]
  },
  {
   "cell_type": "markdown",
   "metadata": {},
   "source": [
    "Alternatively, you can use indexing after series.str to take slices:"
   ]
  },
  {
   "cell_type": "code",
   "execution_count": 10,
   "metadata": {},
   "outputs": [
    {
     "data": {
      "text/plain": [
       "0    Strongly e\n",
       "1    [My reacti\n",
       "2    http://img\n",
       "3    Wolves hav\n",
       "4    Nah. Wigg \n",
       "5    2004 was a\n",
       "6           :')\n",
       "7       *swoon*\n",
       "Name: body, dtype: object"
      ]
     },
     "execution_count": 10,
     "metadata": {},
     "output_type": "execute_result"
    }
   ],
   "source": [
    "comments.str[0:10].head(8)  # Slice the first 10 characters"
   ]
  },
  {
   "cell_type": "markdown",
   "metadata": {},
   "source": [
    "Replace a slice with a new substring using str.slice_replace():"
   ]
  },
  {
   "cell_type": "code",
   "execution_count": 11,
   "metadata": {},
   "outputs": [
    {
     "data": {
      "text/plain": [
       "0    Stron Wolves Rule! ncouraging sign for us.  Th...\n",
       "1    [My r Wolves Rule! on.](http://4.bp.blogspot.c...\n",
       "2            http: Wolves Rule! ur.com/gallery/Zch2AWw\n",
       "3    Wolve Wolves Rule! e more talent than they eve...\n",
       "4    Nah.  Wolves Rule! is on the level of KG but w...\n",
       "5    2004  Wolves Rule!  pretty damn talented team ...\n",
       "6                                    :') Wolves Rule! \n",
       "7                                  *swoo Wolves Rule! \n",
       "Name: body, dtype: object"
      ]
     },
     "execution_count": 11,
     "metadata": {},
     "output_type": "execute_result"
    }
   ],
   "source": [
    "comments.str.slice_replace(5, 10, \" Wolves Rule! \" ).head(8)"
   ]
  },
  {
   "cell_type": "markdown",
   "metadata": {},
   "source": [
    "Replace the occurences of a given substring with a different substring using str.replace():"
   ]
  },
  {
   "cell_type": "code",
   "execution_count": 12,
   "metadata": {},
   "outputs": [
    {
     "data": {
      "text/plain": [
       "0    Strongly encouraging sign for us.  The T-Pups ...\n",
       "1    [My reaction.](http://4.bp.blogspot.com/-3ySob...\n",
       "2                     http://imgur.com/gallery/Zch2AWw\n",
       "3    Pups have more talent than they ever had right...\n",
       "4    Nah. Wigg is on the level of KG but where's ou...\n",
       "5           2004 was a pretty damn talented team dude.\n",
       "6                                                  :')\n",
       "7                                              *swoon*\n",
       "Name: body, dtype: object"
      ]
     },
     "execution_count": 12,
     "metadata": {},
     "output_type": "execute_result"
    }
   ],
   "source": [
    "comments.str.replace(\"Wolves\", \"Pups\").head(8)"
   ]
  },
  {
   "cell_type": "markdown",
   "metadata": {},
   "source": [
    "A common operation when working with text data is to test whether character strings contain a certain substring or pattern of characters. For instance, if we were only interested in posts about Andrew Wiggins, we'd need to match all posts that make mention of him and avoid matching posts that don't mention him. Use series.str.contains() to get a series of true/false values that indicate whether each string contains a given substring:"
   ]
  },
  {
   "cell_type": "code",
   "execution_count": 13,
   "metadata": {},
   "outputs": [
    {
     "data": {
      "text/plain": [
       "0     Strongly encouraging sign for us.  The T-Wolve...\n",
       "4     Nah. Wigg is on the level of KG but where's ou...\n",
       "9                            I FUCKING LOVE YOU ANDREW \n",
       "10                                   I LOVE YOU WIGGINS\n",
       "33    Yupiii!!!!!! Great Wiggins celebration!!!!! =D...\n",
       "44                         Wiggins on the level of KG?!\n",
       "45    I'm comfortable with saying that Wiggins is as...\n",
       "62       They seem so Wiggins. Did he help design them?\n",
       "63    The more I think about this the more I can und...\n",
       "64    I dig these a lot. Like the AW logo too with t...\n",
       "Name: body, dtype: object"
      ]
     },
     "execution_count": 13,
     "metadata": {},
     "output_type": "execute_result"
    }
   ],
   "source": [
    "logical_index = comments.str.lower().str.contains(\"wigg|drew\")\n",
    "\n",
    "comments[logical_index].head(10)    # Get first 10 comments about Wiggins"
   ]
  },
  {
   "cell_type": "markdown",
   "metadata": {},
   "source": [
    "For interest's sake, let's also calculate the ratio of comments that mention Andrew Wiggins:"
   ]
  },
  {
   "cell_type": "code",
   "execution_count": 14,
   "metadata": {},
   "outputs": [
    {
     "data": {
      "text/plain": [
       "0.06649063850216035"
      ]
     },
     "execution_count": 14,
     "metadata": {},
     "output_type": "execute_result"
    }
   ],
   "source": [
    "len(comments[logical_index])/len(comments)"
   ]
  },
  {
   "cell_type": "markdown",
   "metadata": {},
   "source": [
    "It looks like about 6.6% of comments make mention of Andrew Wiggins. Notice that this string pattern argument we supplied to str.contains() wasn't just a simple substring. Posts about Andrew Wiggins could use any number of different names to refer to him--Wiggins, Andrew, Wigg, Drew--so we needed something a little more flexible than a single substring to match the all posts we're interested in. The pattern we supplied is a simple example of a regular expression."
   ]
  },
  {
   "cell_type": "markdown",
   "metadata": {},
   "source": [
    "## Regular Expressions"
   ]
  },
  {
   "cell_type": "markdown",
   "metadata": {},
   "source": [
    "Pandas has a few more useful string functions, but before we go any further, we need to learn about regular expressions. A regular expression or regex is a sequence of characters and special meta characters used to match a set of character strings. Regular expressions allow you to be more expressive with string matching operations than just providing a simple substring. A regular expression lets you define a \"pattern\" that can match strings of different lengths, made up of different characters.\n",
    "\n",
    "In the str.contains() example above, we supplied the regular expression: \"wigg|drew\". In this case, the vertical bar | is a metacharacter that acts as the \"or\" operator, so this regular expression matches any string that contains the substring \"wigg\" or \"drew\".\n",
    "\n",
    "When you provide a regular expression that contains no metacharacters, it simply matches the exact substring. For instance, \"Wiggins\" would only match strings containing the exact substring \"Wiggins.\" Metacharacters let you change how you make matches. Here is a list of basic metacharacters and what they do:\n",
    "\n",
    "\".\" - The period is a metacharacter that matches any character other than a newline:"
   ]
  },
  {
   "cell_type": "code",
   "execution_count": 15,
   "metadata": {},
   "outputs": [
    {
     "data": {
      "text/plain": [
       "0     True\n",
       "1     True\n",
       "2     True\n",
       "3     True\n",
       "4    False\n",
       "dtype: bool"
      ]
     },
     "execution_count": 15,
     "metadata": {},
     "output_type": "execute_result"
    }
   ],
   "source": [
    "my_series = pd.Series([\"will\",\"bill\",\"Till\",\"still\",\"gull\"])\n",
    " \n",
    "my_series.str.contains(\".ill\")     # Match any substring ending in ill"
   ]
  },
  {
   "cell_type": "markdown",
   "metadata": {},
   "source": [
    "\"[ ]\" - Square brackets specify a set of characters to match:"
   ]
  },
  {
   "cell_type": "code",
   "execution_count": 16,
   "metadata": {},
   "outputs": [
    {
     "data": {
      "text/plain": [
       "0    False\n",
       "1    False\n",
       "2     True\n",
       "3     True\n",
       "4    False\n",
       "dtype: bool"
      ]
     },
     "execution_count": 16,
     "metadata": {},
     "output_type": "execute_result"
    }
   ],
   "source": [
    "my_series.str.contains(\"[Tt]ill\")   # Matches T or t followed by \"ill\""
   ]
  },
  {
   "cell_type": "code",
   "execution_count": 17,
   "metadata": {},
   "outputs": [
    {
     "name": "stderr",
     "output_type": "stream",
     "text": [
      "/opt/conda/lib/python3.6/site-packages/ipykernel_launcher.py:24: UserWarning: This pattern has match groups. To actually get the groups, use str.extract.\n"
     ]
    },
    {
     "data": {
      "text/plain": [
       "0    False\n",
       "1     True\n",
       "2     True\n",
       "dtype: bool"
      ]
     },
     "execution_count": 17,
     "metadata": {},
     "output_type": "execute_result"
    }
   ],
   "source": [
    "\"\"\"\n",
    "Regular expressions include several special character sets that allow to quickly specify certain common character types. They include:\n",
    "[a-z] - match any lowercase letter \n",
    "[A-Z] - match any uppercase letter \n",
    "[0-9] - match any digit \n",
    "[a-zA-Z0-9] - match any letter or digit\n",
    "Adding the \"^\" symbol inside the square brackets matches any characters NOT in the set:\n",
    "[^a-z] - match any character that is not a lowercase letter \n",
    "[^A-Z] - match any character that is not a uppercase letter \n",
    "[^0-9] - match any character that is not a digit \n",
    "[^a-zA-Z0-9] - match any character that is not a letter or digit\n",
    "Python regular expressions also include a shorthand for specifying common sequences:\n",
    "\\d - match any digit \n",
    "\\D - match any non digit \n",
    "\\w - match a word character\n",
    "\\W - match a non-word character \n",
    "\\s - match whitespace (spaces, tabs, newlines, etc.) \n",
    "\\S - match non-whitespace\n",
    "\"^\" - outside of square brackets, the caret symbol searches for matches at the beginning of a string:\n",
    "\"\"\"\n",
    "\n",
    "ex_str1 = pd.Series([\"Where did he go\", \"He went to the mall\", \"he is good\"])\n",
    "\n",
    "ex_str1.str.contains(\"^(He|he)\") # Matches He or he at the start of a string"
   ]
  },
  {
   "cell_type": "markdown",
   "metadata": {},
   "source": [
    "\"$\" - searches for matches at the end of a string:"
   ]
  },
  {
   "cell_type": "code",
   "execution_count": 18,
   "metadata": {},
   "outputs": [
    {
     "name": "stderr",
     "output_type": "stream",
     "text": [
      "/opt/conda/lib/python3.6/site-packages/ipykernel_launcher.py:1: UserWarning: This pattern has match groups. To actually get the groups, use str.extract.\n",
      "  \"\"\"Entry point for launching an IPython kernel.\n"
     ]
    },
    {
     "data": {
      "text/plain": [
       "0     True\n",
       "1    False\n",
       "2    False\n",
       "dtype: bool"
      ]
     },
     "execution_count": 18,
     "metadata": {},
     "output_type": "execute_result"
    }
   ],
   "source": [
    "ex_str1.str.contains(\"(go)$\") # Matches go at the end of a string"
   ]
  },
  {
   "cell_type": "code",
   "execution_count": 19,
   "metadata": {},
   "outputs": [
    {
     "data": {
      "text/plain": [
       "0     True\n",
       "1    False\n",
       "2    False\n",
       "3     True\n",
       "4     True\n",
       "dtype: bool"
      ]
     },
     "execution_count": 19,
     "metadata": {},
     "output_type": "execute_result"
    }
   ],
   "source": [
    "\"\"\"\n",
    "\"( )\" - parentheses in regular expressions are used for grouping and to enforce the proper order of operations just like they are in math and logical expressions. In the examples above, the parentheses let us group the or expressions so that the \"^\" and \"$\" symbols operate on the entire or statement.\n",
    "\"*\" - an asterisk matches zero or more copies of the preceding character\n",
    "\"?\" - a question mark matches zero or 1 copy of the preceding character\n",
    "\"+\" - a plus matches 1 more copies of the preceding character\n",
    "\"\"\"\n",
    "\n",
    "\n",
    "ex_str2 = pd.Series([\"abdominal\",\"b\",\"aa\",\"abbcc\",\"aba\"])\n",
    "\n",
    "# Match 0 or more a's, a single b, then 1 or characters\n",
    "ex_str2.str.contains(\"a*b.+\") "
   ]
  },
  {
   "cell_type": "code",
   "execution_count": 20,
   "metadata": {},
   "outputs": [
    {
     "data": {
      "text/plain": [
       "0    False\n",
       "1    False\n",
       "2     True\n",
       "3    False\n",
       "4     True\n",
       "dtype: bool"
      ]
     },
     "execution_count": 20,
     "metadata": {},
     "output_type": "execute_result"
    }
   ],
   "source": [
    "# Match 1 or more a's, an optional b, then 1 or a's\n",
    "ex_str2.str.contains(\"a+b?a+\")"
   ]
  },
  {
   "cell_type": "code",
   "execution_count": 21,
   "metadata": {},
   "outputs": [
    {
     "data": {
      "text/plain": [
       "0    False\n",
       "1    False\n",
       "2    False\n",
       "3     True\n",
       "dtype: bool"
      ]
     },
     "execution_count": 21,
     "metadata": {},
     "output_type": "execute_result"
    }
   ],
   "source": [
    "\"\"\"\n",
    "\"{ }\" - curly braces match a preceding character for a specified number of repetitions:\n",
    "\"{m}\" - the preceding element is matched m times\n",
    "\"{m,}\" - the preceding element is matched m times or more\n",
    "\"{m,n}\" - the preceding element is matched between m and n times\n",
    "\"\"\"\n",
    "\n",
    "ex_str3 = pd.Series([\"aabcbcb\",\"abbb\",\"abbaab\",\"aabb\"])\n",
    "\n",
    "ex_str3.str.contains(\"a{2}b{2,}\")    # Match 2 a's then 2 or more b's"
   ]
  },
  {
   "cell_type": "markdown",
   "metadata": {},
   "source": [
    "\"\\\" - backslash let you \"escape\" metacharacters. You must escape metacharacters when you actually want to match the metacharacter symbol itself. For instance, if you want to match periods you can't use \".\" because it is a metacharacter that matches anything. Instead, you'd use \".\" to escape the period's metacharacter behavior and match the period itself:"
   ]
  },
  {
   "cell_type": "code",
   "execution_count": 22,
   "metadata": {},
   "outputs": [
    {
     "data": {
      "text/plain": [
       "0     True\n",
       "1     True\n",
       "2    False\n",
       "dtype: bool"
      ]
     },
     "execution_count": 22,
     "metadata": {},
     "output_type": "execute_result"
    }
   ],
   "source": [
    "ex_str4 = pd.Series([\"Mr. Ed\",\"Dr. Mario\",\"Miss\\Mrs Granger.\"])\n",
    "\n",
    "ex_str4.str.contains(\"\\. \") # Match a single period and then a space"
   ]
  },
  {
   "cell_type": "markdown",
   "metadata": {},
   "source": [
    "If you want to match the escape character backslash itself, you either have to use four backslashes \"\\\\\" or encode the string as a raw string of the form r\"mystring\" and then use double backslashes. Raw strings are an alternate string representation in Python that simplify some oddities in performing regular expressions on normal strings. Read more about them here."
   ]
  },
  {
   "cell_type": "code",
   "execution_count": 23,
   "metadata": {},
   "outputs": [
    {
     "data": {
      "text/plain": [
       "0    False\n",
       "1    False\n",
       "2     True\n",
       "dtype: bool"
      ]
     },
     "execution_count": 23,
     "metadata": {},
     "output_type": "execute_result"
    }
   ],
   "source": [
    "ex_str4.str.contains(r\"\\\\\") # Match strings containing a backslash"
   ]
  },
  {
   "cell_type": "markdown",
   "metadata": {},
   "source": [
    "Raw strings are often used for regular expression patterns because they avoid issues that may that arise when dealing with special string characters.\n",
    "\n",
    "There are more regular expression intricacies we won't cover here, but combinations of the few symbols we've covered give you a great amount of expressive power. Regular expressions are commonly used to perform tasks like matching phone numbers, email addresses and web addresses in blocks of text.\n",
    "\n",
    "To use regular expressions outside of pandas, you can import the regular expression library with: import re.\n",
    "\n",
    "Pandas has several string functions that accept regex patterns and perform an operation on each string in series. We already saw two such functions: series.str.contains() and series.str.replace(). Let's go back to our basketball comments and explore some of these functions.\n",
    "\n",
    "Use series.str.count() to count the occurrences of a pattern in each string:"
   ]
  },
  {
   "cell_type": "code",
   "execution_count": 24,
   "metadata": {},
   "outputs": [
    {
     "data": {
      "text/plain": [
       "0    2\n",
       "1    0\n",
       "2    0\n",
       "3    1\n",
       "4    0\n",
       "5    0\n",
       "6    0\n",
       "7    0\n",
       "Name: body, dtype: int64"
      ]
     },
     "execution_count": 24,
     "metadata": {},
     "output_type": "execute_result"
    }
   ],
   "source": [
    "comments.str.count(r\"[Ww]olves\").head(8)"
   ]
  },
  {
   "cell_type": "markdown",
   "metadata": {},
   "source": [
    "Use series.str.findall() to get each matched substring and return the result as a list:"
   ]
  },
  {
   "cell_type": "code",
   "execution_count": 25,
   "metadata": {},
   "outputs": [
    {
     "data": {
      "text/plain": [
       "0    [Wolves, Wolves]\n",
       "1                  []\n",
       "2                  []\n",
       "3            [Wolves]\n",
       "4                  []\n",
       "5                  []\n",
       "6                  []\n",
       "7                  []\n",
       "Name: body, dtype: object"
      ]
     },
     "execution_count": 25,
     "metadata": {},
     "output_type": "execute_result"
    }
   ],
   "source": [
    "comments.str.findall(r\"[Ww]olves\").head(8)"
   ]
  },
  {
   "cell_type": "markdown",
   "metadata": {},
   "source": [
    "## Getting Posts with Web Links"
   ]
  },
  {
   "cell_type": "markdown",
   "metadata": {},
   "source": [
    "Now it's time to use some of the new tools we have in our toolbox on the Reddit comment data. Let's say we are only interested in posts that contain web links. If we want to narrow down comments to only those with web links, we'll need to match comments that agree with some pattern that expresses the textual form of a web link. Let's try using a simple regular expression to find posts with web links.\n",
    "\n",
    "Web links begin with \"http:\" or \"https:\" so let's make a regular expression that matches those substrings:"
   ]
  },
  {
   "cell_type": "code",
   "execution_count": 26,
   "metadata": {},
   "outputs": [
    {
     "name": "stdout",
     "output_type": "stream",
     "text": [
      "216\n"
     ]
    },
    {
     "data": {
      "text/plain": [
       "1     [My reaction.](http://4.bp.blogspot.com/-3ySob...\n",
       "2                      http://imgur.com/gallery/Zch2AWw\n",
       "25    [January 4th, 2005 - 47 Pts, 17 Rebs](https://...\n",
       "29    [You're right.](http://espn.go.com/nba/noteboo...\n",
       "34    https://www.youtube.com/watch?v=K1VtZht_8t4\\n\\...\n",
       "Name: body, dtype: object"
      ]
     },
     "execution_count": 26,
     "metadata": {},
     "output_type": "execute_result"
    }
   ],
   "source": [
    "web_links = comments.str.contains(r\"https?:\")\n",
    "\n",
    "posts_with_links = comments[web_links]\n",
    "\n",
    "print( len(posts_with_links))\n",
    "\n",
    "posts_with_links.head(5)"
   ]
  },
  {
   "cell_type": "markdown",
   "metadata": {},
   "source": [
    "It appears the comments we've returned all contain web links. It is possible that a post could contain the string \"http:\" without actually having a web link. If we wanted to reduce this possibility, we'd have to be more specific with our regular expression pattern, but in the case of a basketball-themed forum, it is pretty unlikely.\n",
    "\n",
    "Now that we've identified posts that contain web links, let's extract the links themselves. Many of the posts contain both web links and a bunch of text the user wrote. We want to get rid of the text keep the web links. We can do with with series.str.findall():"
   ]
  },
  {
   "cell_type": "code",
   "execution_count": 27,
   "metadata": {},
   "outputs": [
    {
     "data": {
      "text/plain": [
       "1     [http://4.bp.blogspot.com/-3ySobv38ihc/U6yxpPw...\n",
       "2                    [http://imgur.com/gallery/Zch2AWw]\n",
       "25    [https://www.youtube.com/watch?v=iLRsJ9gcW0Y, ...\n",
       "29    [http://espn.go.com/nba/notebook/_/page/ROY141...\n",
       "34        [https://www.youtube.com/watch?v=K1VtZht_8t4]\n",
       "40        [https://www.youtube.com/watch?v=mFEzW1Z6TRM]\n",
       "69                [https://instagram.com/p/2HWfB3o8rK/]\n",
       "76    [https://www.youtube.com/watch?v=524h48CWlMc&a...\n",
       "93                     [http://i.imgur.com/OrjShZv.jpg]\n",
       "95    [http://content.sportslogos.net/logos/6/232/fu...\n",
       "Name: body, dtype: object"
      ]
     },
     "execution_count": 27,
     "metadata": {},
     "output_type": "execute_result"
    }
   ],
   "source": [
    "only_links = posts_with_links.str.findall(r\"https?:[^ \\n\\)]+\")\n",
    "\n",
    "only_links.head(10)"
   ]
  },
  {
   "cell_type": "markdown",
   "metadata": {},
   "source": [
    "The pattern we used to match web links may look confusing, so let's go over it step by step.\n",
    "\n",
    "First the pattern matches the exact characters \"http\", an optional \"s\" and then \":\".\n",
    "\n",
    "Next, with [^ \\n)], we create a set of characters to match. Since our set starts with \"^\", we are actually matching the negation of the set. In this case, the set is the space character, the newline character \"\\n\" and the closing parenthesis character \")\". We had to escape the closing parenthesis character by writing \")\". Since we are matching the negation, this set matches any character that is NOT a space, newline or closing parenthesis. Finally, the \"+\" at the end matches this set 1 or more times.\n",
    "\n",
    "To summarize, the regex matches http: or https: at the start and then any number of characters until it encounters a space, newline or closing parenthesis. This regex isn't perfect: a web address could contain parentheses and a space, newline or closing parenthesis might not be the only characters that mark the end of a web link in a comment. It is good enough for this small data set, but for a serious project we would probably want something a little more specific to handle such corner cases.\n",
    "\n",
    "Complex regular expressions can be difficult to write and confusing to read. Sometimes it is easiest to simply search the web for a regular expression to perform a common task instead of writing one from scratch. You can test and troubleshoot Python regular expressions using [this](https://regex101.com/#python) online tool.\n",
    "\n",
    "*Note: If you copy a regex written for another language it might not work in Python without some modifications."
   ]
  },
  {
   "cell_type": "markdown",
   "metadata": {},
   "source": [
    "## Wrap Up"
   ]
  },
  {
   "cell_type": "markdown",
   "metadata": {},
   "source": [
    "In this lesson, we learned several functions for dealing with text data in Python and introduced regular expressions, a powerful tool for matching substrings in text. Regular expressions are used in many programming languages and although the syntax for regex varies a bit for one language to another, the basic constructs are similar across languages.\n",
    "\n",
    "Next time we'll turn our attention to cleaning and preparing numeric data."
   ]
  },
  {
   "cell_type": "markdown",
   "metadata": {},
   "source": [
    "## Next Lesson: [Python for Data 16: Preparing Numeric Data](https://www.kaggle.com/hamelg/python-for-data-16-preparing-numeric-data)\n",
    "[back to index](https://www.kaggle.com/hamelg/python-for-data-analysis-index)"
   ]
  }
 ],
 "metadata": {
  "kernelspec": {
   "display_name": "Python 3",
   "language": "python",
   "name": "python3"
  },
  "language_info": {
   "codemirror_mode": {
    "name": "ipython",
    "version": 3
   },
   "file_extension": ".py",
   "mimetype": "text/x-python",
   "name": "python",
   "nbconvert_exporter": "python",
   "pygments_lexer": "ipython3",
   "version": "3.6.4"
  }
 },
 "nbformat": 4,
 "nbformat_minor": 1
}
