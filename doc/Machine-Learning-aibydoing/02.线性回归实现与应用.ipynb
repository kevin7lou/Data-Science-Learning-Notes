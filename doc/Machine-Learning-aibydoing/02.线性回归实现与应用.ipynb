{
 "cells": [
  {
   "cell_type": "markdown",
   "metadata": {},
   "source": [
    "# 2. 线性回归实现与应用"
   ]
  },
  {
   "cell_type": "markdown",
   "metadata": {},
   "source": [
    "## 2.4. 一元线性回归"
   ]
  },
  {
   "cell_type": "code",
   "execution_count": 1,
   "metadata": {},
   "outputs": [],
   "source": [
    "import numpy as np\n",
    "\n",
    "x = np.array([56, 72, 69, 88, 102, 86, 76, 79, 94, 74])\n",
    "y = np.array([92, 102, 86, 110, 130, 99, 96, 102, 105, 92])"
   ]
  },
  {
   "cell_type": "code",
   "execution_count": 2,
   "metadata": {},
   "outputs": [],
   "source": [
    "import seaborn as sns\n",
    "custom_params = {\"figure.figsize\": (6, 4),\n",
    "                 \"font.sans-serif\":\"Arial Unicode MS\",\n",
    "                 'axes.unicode_minus': False}\n",
    "sns.set_theme(style=\"ticks\", font_scale=0.7, rc=custom_params)"
   ]
  },
  {
   "cell_type": "code",
   "execution_count": 3,
   "metadata": {},
   "outputs": [
    {
     "data": {
      "text/plain": [
       "Text(0, 0.5, 'Price')"
      ]
     },
     "execution_count": 3,
     "metadata": {},
     "output_type": "execute_result"
    },
    {
     "data": {
      "image/png": "[encoded data removed]",
      "text/plain": [
       "<Figure size 600x400 with 1 Axes>"
      ]
     },
     "metadata": {},
     "output_type": "display_data"
    }
   ],
   "source": [
    "from matplotlib import pyplot as plt\n",
    "\n",
    "%matplotlib inline\n",
    "\n",
    "plt.scatter(x, y)\n",
    "plt.xlabel('Area')\n",
    "plt.ylabel('Price')"
   ]
  },
  {
   "cell_type": "markdown",
   "metadata": {},
   "source": [
    "正如上面所说，线性回归即通过线性方程去拟合数据点。那么，我们可以令该 1 次函数的表达式为：\n",
    "$$y(x, w) = w_0 + w_1x \\tag{1}$$"
   ]
  },
  {
   "cell_type": "markdown",
   "metadata": {},
   "source": [
    "## 2.5. 平方损失函数 (square loss)\n",
    "\n",
    "正如上面所说，如果一个数据点为 ($x_{i}$, $y_{i}$)，那么它对应的误差 (Error) 就为:\n",
    "\n",
    "$$y_{i}-(w_0 + w_1x_{i}) \\tag{2}$$\n",
    "\n",
    "\n",
    "上面的误差往往也称之为「 **残差**」 (Residual)。但是在机器学习中，我们更喜欢称作「 **损失** 」 (Loss)，即真实值和预测值之间的偏离程度。那么，对 $n$ 个全部数据点而言，其对应的残差损失总和就为：\n",
    "\n",
    "$$\\sum\\limits_{i = 1}^n {{{(y_{i}-(w_0 + w_1x_{i}))}}}\n",
    "                    \\tag{3}$$\n",
    "\n",
    "更进一步，在线性回归中，我们一般使用残差的平方和来表示所有样本点的误差。公式如下：\n",
    "\n",
    "$$\\sum\\limits_{i = 1}^n {{{(y_{i}-(w_0 + w_1x_{i}))}}^2}\n",
    "                    \\tag{4}$$\n",
    "\n",
    "- 残差：$r_i = y_i - \\hat{y}_i$\n",
    "- 平方损失函数：$L(y, \\hat{y}) = \\sum_{i=1}^n (y_i - \\hat{y}_i)^2$"
   ]
  },
  {
   "cell_type": "markdown",
   "metadata": {},
   "source": [
    "## 2.6. 最小二乘法代数求解\n"
   ]
  },
  {
   "cell_type": "markdown",
   "metadata": {},
   "source": [
    "最小二乘法是用于求解线性回归拟合参数 $w$ 的一种常用方法。最小二乘法中的「二乘」代表平方，最小二乘也就是最小平方。而这里的平方就是指代上面的平方损失函数。\n",
    "\n",
    "简单来讲，最小二乘法也就是求解平方损失函数最小值的方法。那么，到底该怎样求解呢？这就需要使用到高等数学中的知识。推导如下：\n",
    "\n",
    "首先，平方损失函数为：\n",
    "$$f = \\sum\\limits_{i = 1}^n {{{(y_{i}-(w_0 +\n",
    "                    w_1x_{i}))}}^2} \\tag{5}$$\n",
    " \n",
    "我们的目标是求取平方损失函数 $min(f)$ 最小时，对应的 $w$。首先求 $f$ 的 1 阶偏导数：\n",
    "\n",
    "$$\\frac{\\partial f}{\\partial\n",
    "                    w_{0}}=-2(\\sum_{i=1}^{n}{y_i}-nw_{0}-w_{1}\\sum_{i=1}^{n}{x_i})\n",
    "                    \\tag{6a}$$\n",
    " \n",
    "$$\\frac{\\partial f}{\\partial\n",
    "                    w_{1}}=-2(\\sum_{i=1}^{n}{x_iy_i}-w_{0}\\sum_{i=1}^{n}{x_i}-w_{1}\\sum_{i=1}^{n}{x_i}^2)\n",
    "                    \\tag{6b}$$\n",
    "然后，我们令 $\\frac{\\partial f}{\\partial w_{0}}=0$ 以及 $\\frac{\\partial f}{\\partial w_{1}}=0$，解得：\n",
    "\n",
    "$$w_{1}=\\frac\n",
    "                    {n\\sum_{}^{}{x_iy_i}-\\sum_{}^{}{x_i}\\sum_{}^{}{y_i}}\n",
    "                    {n\\sum_{}^{}{x_i}^2-(\\sum_{}^{}{x_i})^2} \\tag{7b}$$ \n",
    " \n",
    "$$w_{0}=\\frac\n",
    "                    {\\sum_{}^{}{x_i}^2\\sum_{}^{}{y_i}-\\sum_{}^{}{x_i}\\sum_{}^{}{x_iy_i}}\n",
    "                    {n\\sum_{}^{}{x_i}^2-(\\sum_{}^{}{x_i})^2} \\tag{7b}$$\n",
    " \n",
    "到目前为止，已经求出了平方损失函数最小时对应的 $w$ 参数值，这也就是最佳拟合直线。"
   ]
  },
  {
   "cell_type": "markdown",
   "metadata": {},
   "source": [
    "## 2.7. 最小二乘法矩阵求解\n"
   ]
  },
  {
   "cell_type": "markdown",
   "metadata": {},
   "source": [
    "学习完上面的内容，相信你已经了解了什么是最小二乘法，以及如何使用最小二乘法进行线性回归拟合。上面，我们采用了求偏导数的方法，并通过代数求解找到了最佳拟合参数 $w$ 的值。这里尝试另外一种方法，即通过矩阵的变换来计算参数 $w$。\n",
    "\n",
    "首先，一元线性函数的表达式为 $y(x, w) = w_0 + w_1x$，表达成矩阵形式为：\n",
    "\n",
    "$$\\begin{split} \\left[ \\begin{array}{c}{1, x_{1}} \\\\ {1,\n",
    "                    x_{2}} \\\\ {\\cdots} \\\\ {1, x_{9}} \\\\ {1,\n",
    "                    x_{10}}\\end{array}\\right] \\left[ \\begin{array}{c}{w_{0}} \\\\\n",
    "                    {w_{1}}\\end{array}\\right] = \\left[ \\begin{array}{c}{y_{1}}\n",
    "                    \\\\ {y_{2}} \\\\ {\\cdots} \\\\ {y_{9}} \\\\\n",
    "                    {y_{10}}\\end{array}\\right] \\Rightarrow \\left[\n",
    "                    \\begin{array}{c}{1,56} \\\\ {1,72} \\\\ {\\cdots} \\\\ {1,94} \\\\\n",
    "                    {1,74}\\end{array}\\right] \\left[ \\begin{array}{c}{w_{0}} \\\\\n",
    "                    {w_{1}}\\end{array}\\right]=\\left[ \\begin{array}{c}{92} \\\\\n",
    "                    {102} \\\\ {\\cdots} \\\\ {105} \\\\ {92}\\end{array}\\right]\n",
    "                    \\end{split}$$\n",
    " \n",
    "即：\n",
    "$$y(x, w) = XW \\tag{8b}$$\n",
    " \n",
    "$(8)$ 式中， $W$ 为 $\\begin{bmatrix}w_{0} \\\\ w_{1} \\end{bmatrix}$，而 $X$ 则是 $\\begin{bmatrix}1, x_{1} \\\\ 1, x_{2} \\\\ \\cdots \\\\ 1,\n",
    "                      x_{9} \\\\ 1, x_{10} \\end{bmatrix}$ 矩阵。然后，平方损失函数为：\n",
    "\n",
    "$$f = \\sum\\limits_{i = 1}^n {{{(y_{i}-(w_0 +\n",
    "                    w_1x_{i}))}}}^2 =(y-XW)^T(y-XW)\\tag{9}$$\n",
    " \n",
    "通过对公式 $(9)$ 实施矩阵计算乘法分配律得到：\n",
    "\n",
    "$$f = y^{T}y - y^{T}(XW) - (XW)^{T}y + (XW)^{T}(XW)\n",
    "                    \\tag{10}$$\n",
    " \n",
    "在该公式中 $y$ 与 $XW$ 皆为相同形式的 $(m,1)$ 矩阵，由此两者相乘属于线性关系，所以等价转换如下：\n",
    "\n",
    "$$\\begin{split} f = y^{T}y - (XW)^{T}y - (XW)^{T}y +\n",
    "                    (XW)^{T}(XW)\\\\ = y^{T}y - 2 (XW)^{T}y + (XW)^{T}(XW)\n",
    "                    \\end{split}$$\n",
    " \n",
    "此时，对 [矩阵求偏导数](https://en.wikipedia.org/wiki/Matrix_calculus) 得到：\n",
    "$$\\frac{\\partial f}{\\partial W}=2X^TXW-2X^Ty=0 \\tag{12}$$\n",
    " \n",
    " \n",
    "当矩阵 $X^TX$ 满秩时，$(X^TX)^{-1}X^TX=E$ ，且 $EW=W$。所以有 $(X^TX)^{-1}X^TXW=(X^TX)^{-1}X^Ty$，并最终得到：\n",
    "$$W=(X^TX)^{-1}X^Ty \\tag{13}$$"
   ]
  },
  {
   "cell_type": "markdown",
   "metadata": {},
   "source": [
    "## 2.8. 线性回归 scikit-learn 实现\n",
    "\n",
    "```python\n",
    "sklearn.linear_model.LinearRegression(fit_intercept=True, normalize=False, copy_X=True, n_jobs=1)\n",
    "\n",
    "# - fit_intercept: 默认为 True，计算截距项。\n",
    "# - normalize: 默认为 False，不针对数据进行标准化处理。\n",
    "# - copy_X: 默认为 True，即使用数据的副本进行操作，防止影响原数据。\n",
    "# - n_jobs: 计算时的作业数量。默认为 1，若为 -1 则使用全部 CPU 参与运算。\n",
    "```"
   ]
  },
  {
   "cell_type": "code",
   "execution_count": 4,
   "metadata": {},
   "outputs": [
    {
     "data": {
      "text/plain": [
       "(41.33509168550617, array([0.75458428]))"
      ]
     },
     "execution_count": 4,
     "metadata": {},
     "output_type": "execute_result"
    }
   ],
   "source": [
    "from sklearn.linear_model import LinearRegression\n",
    "\n",
    "# 定义线性回归模型\n",
    "model = LinearRegression()\n",
    "model.fit(x.reshape(x.shape[0], 1), y)  # 训练, reshape 操作把数据处理成 fit 能接受的形状\n",
    "\n",
    "# 得到模型拟合参数\n",
    "model.intercept_, model.coef_"
   ]
  },
  {
   "cell_type": "code",
   "execution_count": 5,
   "metadata": {},
   "outputs": [
    {
     "data": {
      "text/plain": [
       "array([154.52273298])"
      ]
     },
     "execution_count": 5,
     "metadata": {},
     "output_type": "execute_result"
    }
   ],
   "source": [
    "model.predict([[150]])"
   ]
  },
  {
   "cell_type": "markdown",
   "metadata": {},
   "source": [
    "## 2.9. 线性回归综合案例"
   ]
  },
  {
   "cell_type": "code",
   "execution_count": 6,
   "metadata": {},
   "outputs": [
    {
     "data": {
      "text/html": [
       "<div>\n",
       "<style scoped>\n",
       "    .dataframe tbody tr th:only-of-type {\n",
       "        vertical-align: middle;\n",
       "    }\n",
       "\n",
       "    .dataframe tbody tr th {\n",
       "        vertical-align: top;\n",
       "    }\n",
       "\n",
       "    .dataframe thead th {\n",
       "        text-align: right;\n",
       "    }\n",
       "</style>\n",
       "<table border=\"1\" class=\"dataframe\">\n",
       "  <thead>\n",
       "    <tr style=\"text-align: right;\">\n",
       "      <th></th>\n",
       "      <th>CRIM</th>\n",
       "      <th>ZN</th>\n",
       "      <th>INDUS</th>\n",
       "      <th>CHAS</th>\n",
       "      <th>NOX</th>\n",
       "      <th>RM</th>\n",
       "      <th>AGE</th>\n",
       "      <th>DIS</th>\n",
       "      <th>RAD</th>\n",
       "      <th>TAX</th>\n",
       "      <th>PTRATIO</th>\n",
       "      <th>LSTAT</th>\n",
       "      <th>MEDV</th>\n",
       "    </tr>\n",
       "  </thead>\n",
       "  <tbody>\n",
       "    <tr>\n",
       "      <th>0</th>\n",
       "      <td>0.00632</td>\n",
       "      <td>18.0</td>\n",
       "      <td>2.31</td>\n",
       "      <td>0</td>\n",
       "      <td>0.538</td>\n",
       "      <td>6.575</td>\n",
       "      <td>65.2</td>\n",
       "      <td>4.0900</td>\n",
       "      <td>1</td>\n",
       "      <td>296</td>\n",
       "      <td>15.3</td>\n",
       "      <td>4.98</td>\n",
       "      <td>24.0</td>\n",
       "    </tr>\n",
       "    <tr>\n",
       "      <th>1</th>\n",
       "      <td>0.02731</td>\n",
       "      <td>0.0</td>\n",
       "      <td>7.07</td>\n",
       "      <td>0</td>\n",
       "      <td>0.469</td>\n",
       "      <td>6.421</td>\n",
       "      <td>78.9</td>\n",
       "      <td>4.9671</td>\n",
       "      <td>2</td>\n",
       "      <td>242</td>\n",
       "      <td>17.8</td>\n",
       "      <td>9.14</td>\n",
       "      <td>21.6</td>\n",
       "    </tr>\n",
       "    <tr>\n",
       "      <th>2</th>\n",
       "      <td>0.02729</td>\n",
       "      <td>0.0</td>\n",
       "      <td>7.07</td>\n",
       "      <td>0</td>\n",
       "      <td>0.469</td>\n",
       "      <td>7.185</td>\n",
       "      <td>61.1</td>\n",
       "      <td>4.9671</td>\n",
       "      <td>2</td>\n",
       "      <td>242</td>\n",
       "      <td>17.8</td>\n",
       "      <td>4.03</td>\n",
       "      <td>34.7</td>\n",
       "    </tr>\n",
       "    <tr>\n",
       "      <th>3</th>\n",
       "      <td>0.03237</td>\n",
       "      <td>0.0</td>\n",
       "      <td>2.18</td>\n",
       "      <td>0</td>\n",
       "      <td>0.458</td>\n",
       "      <td>6.998</td>\n",
       "      <td>45.8</td>\n",
       "      <td>6.0622</td>\n",
       "      <td>3</td>\n",
       "      <td>222</td>\n",
       "      <td>18.7</td>\n",
       "      <td>2.94</td>\n",
       "      <td>33.4</td>\n",
       "    </tr>\n",
       "    <tr>\n",
       "      <th>4</th>\n",
       "      <td>0.06905</td>\n",
       "      <td>0.0</td>\n",
       "      <td>2.18</td>\n",
       "      <td>0</td>\n",
       "      <td>0.458</td>\n",
       "      <td>7.147</td>\n",
       "      <td>54.2</td>\n",
       "      <td>6.0622</td>\n",
       "      <td>3</td>\n",
       "      <td>222</td>\n",
       "      <td>18.7</td>\n",
       "      <td>5.33</td>\n",
       "      <td>36.2</td>\n",
       "    </tr>\n",
       "  </tbody>\n",
       "</table>\n",
       "</div>"
      ],
      "text/plain": [
       "      CRIM    ZN  INDUS  CHAS    NOX     RM   AGE     DIS  RAD  TAX  PTRATIO  \\\n",
       "0  0.00632  18.0   2.31     0  0.538  6.575  65.2  4.0900    1  296     15.3   \n",
       "1  0.02731   0.0   7.07     0  0.469  6.421  78.9  4.9671    2  242     17.8   \n",
       "2  0.02729   0.0   7.07     0  0.469  7.185  61.1  4.9671    2  242     17.8   \n",
       "3  0.03237   0.0   2.18     0  0.458  6.998  45.8  6.0622    3  222     18.7   \n",
       "4  0.06905   0.0   2.18     0  0.458  7.147  54.2  6.0622    3  222     18.7   \n",
       "\n",
       "   LSTAT  MEDV  \n",
       "0   4.98  24.0  \n",
       "1   9.14  21.6  \n",
       "2   4.03  34.7  \n",
       "3   2.94  33.4  \n",
       "4   5.33  36.2  "
      ]
     },
     "execution_count": 6,
     "metadata": {},
     "output_type": "execute_result"
    }
   ],
   "source": [
    "import pandas as pd\n",
    "\n",
    "url = 'https://github.com/NishadKhudabux/Boston-House-Price-Prediction/raw/refs/heads/main/Boston.csv'\n",
    "# column_names = ['CRIM', 'ZN', 'INDUS', 'CHAS', 'NOX', 'RM', 'AGE', 'DIS', 'RAD', 'TAX', 'PTRATIO', 'B', 'LSTAT']\n",
    "\n",
    "df = pd.read_csv(url, header=0)\n",
    "df.head()"
   ]
  },
  {
   "cell_type": "code",
   "execution_count": 7,
   "metadata": {},
   "outputs": [
    {
     "data": {
      "text/plain": [
       "Index(['CRIM', 'ZN', 'INDUS', 'CHAS', 'NOX', 'RM', 'AGE', 'DIS', 'RAD', 'TAX',\n",
       "       'PTRATIO', 'LSTAT', 'MEDV'],\n",
       "      dtype='object')"
      ]
     },
     "execution_count": 7,
     "metadata": {},
     "output_type": "execute_result"
    }
   ],
   "source": [
    "df.columns"
   ]
  },
  {
   "cell_type": "code",
   "execution_count": 8,
   "metadata": {},
   "outputs": [
    {
     "data": {
      "text/html": [
       "<div>\n",
       "<style scoped>\n",
       "    .dataframe tbody tr th:only-of-type {\n",
       "        vertical-align: middle;\n",
       "    }\n",
       "\n",
       "    .dataframe tbody tr th {\n",
       "        vertical-align: top;\n",
       "    }\n",
       "\n",
       "    .dataframe thead th {\n",
       "        text-align: right;\n",
       "    }\n",
       "</style>\n",
       "<table border=\"1\" class=\"dataframe\">\n",
       "  <thead>\n",
       "    <tr style=\"text-align: right;\">\n",
       "      <th></th>\n",
       "      <th>crim</th>\n",
       "      <th>rm</th>\n",
       "      <th>lstat</th>\n",
       "    </tr>\n",
       "  </thead>\n",
       "  <tbody>\n",
       "    <tr>\n",
       "      <th>count</th>\n",
       "      <td>506.000000</td>\n",
       "      <td>506.000000</td>\n",
       "      <td>506.000000</td>\n",
       "    </tr>\n",
       "    <tr>\n",
       "      <th>mean</th>\n",
       "      <td>3.613524</td>\n",
       "      <td>6.284634</td>\n",
       "      <td>12.653063</td>\n",
       "    </tr>\n",
       "    <tr>\n",
       "      <th>std</th>\n",
       "      <td>8.601545</td>\n",
       "      <td>0.702617</td>\n",
       "      <td>7.141062</td>\n",
       "    </tr>\n",
       "    <tr>\n",
       "      <th>min</th>\n",
       "      <td>0.006320</td>\n",
       "      <td>3.561000</td>\n",
       "      <td>1.730000</td>\n",
       "    </tr>\n",
       "    <tr>\n",
       "      <th>25%</th>\n",
       "      <td>0.082045</td>\n",
       "      <td>5.885500</td>\n",
       "      <td>6.950000</td>\n",
       "    </tr>\n",
       "    <tr>\n",
       "      <th>50%</th>\n",
       "      <td>0.256510</td>\n",
       "      <td>6.208500</td>\n",
       "      <td>11.360000</td>\n",
       "    </tr>\n",
       "    <tr>\n",
       "      <th>75%</th>\n",
       "      <td>3.677083</td>\n",
       "      <td>6.623500</td>\n",
       "      <td>16.955000</td>\n",
       "    </tr>\n",
       "    <tr>\n",
       "      <th>max</th>\n",
       "      <td>88.976200</td>\n",
       "      <td>8.780000</td>\n",
       "      <td>37.970000</td>\n",
       "    </tr>\n",
       "  </tbody>\n",
       "</table>\n",
       "</div>"
      ],
      "text/plain": [
       "             crim          rm       lstat\n",
       "count  506.000000  506.000000  506.000000\n",
       "mean     3.613524    6.284634   12.653063\n",
       "std      8.601545    0.702617    7.141062\n",
       "min      0.006320    3.561000    1.730000\n",
       "25%      0.082045    5.885500    6.950000\n",
       "50%      0.256510    6.208500   11.360000\n",
       "75%      3.677083    6.623500   16.955000\n",
       "max     88.976200    8.780000   37.970000"
      ]
     },
     "execution_count": 8,
     "metadata": {},
     "output_type": "execute_result"
    }
   ],
   "source": [
    "df.columns = [x.lower() for x in df.columns]\n",
    "\n",
    "features = df[[\"crim\", \"rm\", \"lstat\"]]\n",
    "features.describe()"
   ]
  },
  {
   "cell_type": "code",
   "execution_count": 9,
   "metadata": {},
   "outputs": [
    {
     "name": "stdout",
     "output_type": "stream",
     "text": [
      "(354, 3) (354,) (152, 3) (152,)\n"
     ]
    }
   ],
   "source": [
    "target = df[\"medv\"]  # 目标值数据\n",
    "\n",
    "from sklearn.model_selection import train_test_split\n",
    "\n",
    "# 将特征和目标值分开\n",
    "X = features\n",
    "y = target\n",
    "\n",
    "# 使用 train_test_split 分割数据，将 30% 的数据作为测试集\n",
    "X_train, X_test, y_train, y_test = train_test_split(X, y, test_size=0.3, random_state=42)\n",
    "\n",
    "# 查看数据集的形状\n",
    "print(X_train.shape, y_train.shape, X_test.shape, y_test.shape)"
   ]
  },
  {
   "cell_type": "code",
   "execution_count": 10,
   "metadata": {},
   "outputs": [
    {
     "data": {
      "text/plain": [
       "(array([-0.12362012,  5.09661773, -0.60817459]), -1.2405510324250422)"
      ]
     },
     "execution_count": 10,
     "metadata": {},
     "output_type": "execute_result"
    }
   ],
   "source": [
    "model = LinearRegression()  # 建立模型\n",
    "model.fit(X_train, y_train)  # 训练模型\n",
    "model.coef_, model.intercept_  # 输出训练后的模型参数和截距项"
   ]
  },
  {
   "cell_type": "markdown",
   "metadata": {},
   "source": [
    "上面的单元格中，我们输出了线性回归模型的拟合参数。也就是最终的拟合线性函数近似为：\n",
    "\n",
    "$$f = -0.1236 * x_{1} + 5.0966 * x_{2} -0.6081 * x_{3} -1.2405 \\tag{14}$$\n",
    "\n",
    "其中，$x_{1}$, $x_{2}$ 和 $x_{3}$ 分别对应数据集中 `CRIM`, `RM` 和 `LSTAT` 列。接下来，向训练好的模型中输入测试集的特征得到预测值。"
   ]
  },
  {
   "cell_type": "code",
   "execution_count": 11,
   "metadata": {},
   "outputs": [
    {
     "data": {
      "text/plain": [
       "array([25.95010416, 31.04855815, 18.2497264 , 26.3019832 , 19.72042823,\n",
       "       23.46871069, 17.71366141, 15.49650764, 22.17984511, 20.73388426,\n",
       "       18.17724891, 18.93873596, -6.35437003, 23.00971662, 20.67587505,\n",
       "       26.66807591, 18.01857996,  3.23670389, 37.08732784, 18.10256111,\n",
       "       26.53443298, 27.41308736, 13.99188946, 26.47265903, 18.95326059,\n",
       "       14.39064862, 23.15222471, 20.49447042, 18.61054869, 19.6808132 ,\n",
       "       18.20651772, 27.11073871, 25.4330687 , 19.43551217, 15.84148017,\n",
       "       17.98728092, 32.92433015, 22.70715097, 20.73270312, 25.97803613,\n",
       "       13.33760731, 29.08053218, 37.95164944, 19.29216769, 26.10063642,\n",
       "       16.60989702, 16.51288715, 27.36660097, 19.7455285 , 29.24021979,\n",
       "       21.30002643, 31.4765798 , 18.52548865, 28.64078242, 34.84253501,\n",
       "       24.04067339, 19.66522085, 31.69779263, 25.46484613, 16.07543617,\n",
       "       27.42948149, 32.77789044, 29.81113896, 19.35780323, 28.9413907 ,\n",
       "       11.89916031, 20.25014766, 26.78687738, 29.74091303, 17.07827625,\n",
       "       19.61952361, 27.74870143, 12.54395385, 25.61226266, 23.79596517,\n",
       "        3.20619077, 22.67424043, 36.46170373, 17.33409647, 11.75192421,\n",
       "       23.3913465 , 10.41607184, 23.07717374,  7.37683104, 22.2962212 ,\n",
       "       28.08812367, 22.33078153, 27.69005761, 26.63422339, 22.73619744,\n",
       "       23.28376198,  6.38335834, 23.39696086, 21.1061108 , 12.01510444,\n",
       "       24.39925364, 23.50282292, -0.88178284, 18.92844379, 18.04521922,\n",
       "       21.58806596, 25.34794842,  8.78508592, 23.26431999, 24.73085877,\n",
       "       14.82814703, 20.99784584, 28.4225529 , 24.65135513, 27.77945214,\n",
       "       12.15141611, 19.86691593, 26.80930743, 24.31730346, 31.34755289,\n",
       "       19.45326717, 33.72874163, 17.1505415 , 20.52024491, 27.91244682,\n",
       "       19.63717391, 28.21563418,  7.48914676, 23.16332186, 26.64949711,\n",
       "       24.82176435, 28.09870799, 32.28309414, 20.54206054, 36.32384001,\n",
       "       10.74004071, 26.56401533, 21.60804452, 19.38688193,  7.67884687,\n",
       "       23.39226334, 24.46020314, 31.09393553, 29.75192884, 18.94581935,\n",
       "       20.26932503, 28.06686746, 22.02045463, 11.67109054,  5.16317683,\n",
       "       24.16233599, 20.62623892, 18.33470988, 16.17338714, 40.34645114,\n",
       "       21.0067563 , 19.39310502])"
      ]
     },
     "execution_count": 11,
     "metadata": {},
     "output_type": "execute_result"
    }
   ],
   "source": [
    "preds = model.predict(X_test)  # 输入测试集特征进行预测\n",
    "preds  # 预测结果"
   ]
  },
  {
   "cell_type": "code",
   "execution_count": 12,
   "metadata": {},
   "outputs": [
    {
     "name": "stdout",
     "output_type": "stream",
     "text": [
      "scikit-learn MAE:  4.111995393754922\n",
      "scikit-learn MSE:  29.975964330767464\n"
     ]
    }
   ],
   "source": [
    "from sklearn.metrics import mean_absolute_error, mean_squared_error\n",
    "# import mean_absolute_error, mean_squared_error\n",
    "\n",
    "mae_ = mean_absolute_error(y_test, preds)\n",
    "mse_ = mean_squared_error(y_test, preds)\n",
    "\n",
    "print(\"scikit-learn MAE: \", mae_)\n",
    "print(\"scikit-learn MSE: \", mse_)"
   ]
  }
 ],
 "metadata": {
  "kernelspec": {
   "display_name": "dsml-py311",
   "language": "python",
   "name": "python3"
  },
  "language_info": {
   "codemirror_mode": {
    "name": "ipython",
    "version": 3
   },
   "file_extension": ".py",
   "mimetype": "text/x-python",
   "name": "python",
   "nbconvert_exporter": "python",
   "pygments_lexer": "ipython3",
   "version": "3.11.13"
  }
 },
 "nbformat": 4,
 "nbformat_minor": 2
}
